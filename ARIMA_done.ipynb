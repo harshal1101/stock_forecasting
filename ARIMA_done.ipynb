{
 "cells": [
  {
   "cell_type": "code",
   "execution_count": 1,
   "metadata": {},
   "outputs": [],
   "source": [
    "import pandas as pd\n",
    "import numpy as np\n",
    "import statsmodels.graphics.tsaplots as sgt\n",
    "from statsmodels.tsa.arima_model import ARIMA\n",
    "from scipy.stats.distributions import chi2\n",
    "import statsmodels.tsa.stattools as sts\n",
    "import matplotlib.pylab as plt\n",
    "import warnings\n",
    "warnings.filterwarnings('ignore')\n"
   ]
  },
  {
   "cell_type": "code",
   "execution_count": 2,
   "metadata": {},
   "outputs": [],
   "source": [
    "df = pd.read_csv('GS.csv',parse_dates= ['Date'])\n",
    "df.set_index('Date',inplace=True)"
   ]
  },
  {
   "cell_type": "code",
   "execution_count": 3,
   "metadata": {},
   "outputs": [
    {
     "data": {
      "text/html": [
       "<div>\n",
       "<style scoped>\n",
       "    .dataframe tbody tr th:only-of-type {\n",
       "        vertical-align: middle;\n",
       "    }\n",
       "\n",
       "    .dataframe tbody tr th {\n",
       "        vertical-align: top;\n",
       "    }\n",
       "\n",
       "    .dataframe thead th {\n",
       "        text-align: right;\n",
       "    }\n",
       "</style>\n",
       "<table border=\"1\" class=\"dataframe\">\n",
       "  <thead>\n",
       "    <tr style=\"text-align: right;\">\n",
       "      <th></th>\n",
       "      <th>Open</th>\n",
       "      <th>High</th>\n",
       "      <th>Low</th>\n",
       "      <th>Close</th>\n",
       "      <th>Adj Close</th>\n",
       "      <th>Volume</th>\n",
       "    </tr>\n",
       "    <tr>\n",
       "      <th>Date</th>\n",
       "      <th></th>\n",
       "      <th></th>\n",
       "      <th></th>\n",
       "      <th></th>\n",
       "      <th></th>\n",
       "      <th></th>\n",
       "    </tr>\n",
       "  </thead>\n",
       "  <tbody>\n",
       "    <tr>\n",
       "      <th>1999-05-04</th>\n",
       "      <td>76.0000</td>\n",
       "      <td>77.250</td>\n",
       "      <td>70.0000</td>\n",
       "      <td>70.3750</td>\n",
       "      <td>54.440052</td>\n",
       "      <td>22320900</td>\n",
       "    </tr>\n",
       "    <tr>\n",
       "      <th>1999-05-05</th>\n",
       "      <td>69.8750</td>\n",
       "      <td>69.875</td>\n",
       "      <td>66.2500</td>\n",
       "      <td>69.1250</td>\n",
       "      <td>53.473076</td>\n",
       "      <td>7565700</td>\n",
       "    </tr>\n",
       "    <tr>\n",
       "      <th>1999-05-06</th>\n",
       "      <td>68.0000</td>\n",
       "      <td>69.375</td>\n",
       "      <td>67.0625</td>\n",
       "      <td>67.9375</td>\n",
       "      <td>52.554470</td>\n",
       "      <td>2905700</td>\n",
       "    </tr>\n",
       "    <tr>\n",
       "      <th>1999-05-07</th>\n",
       "      <td>67.9375</td>\n",
       "      <td>74.875</td>\n",
       "      <td>66.7500</td>\n",
       "      <td>74.1250</td>\n",
       "      <td>57.340931</td>\n",
       "      <td>4862300</td>\n",
       "    </tr>\n",
       "    <tr>\n",
       "      <th>1999-05-10</th>\n",
       "      <td>73.3750</td>\n",
       "      <td>73.500</td>\n",
       "      <td>70.2500</td>\n",
       "      <td>70.6875</td>\n",
       "      <td>54.681774</td>\n",
       "      <td>2589400</td>\n",
       "    </tr>\n",
       "  </tbody>\n",
       "</table>\n",
       "</div>"
      ],
      "text/plain": [
       "               Open    High      Low    Close  Adj Close    Volume\n",
       "Date                                                              \n",
       "1999-05-04  76.0000  77.250  70.0000  70.3750  54.440052  22320900\n",
       "1999-05-05  69.8750  69.875  66.2500  69.1250  53.473076   7565700\n",
       "1999-05-06  68.0000  69.375  67.0625  67.9375  52.554470   2905700\n",
       "1999-05-07  67.9375  74.875  66.7500  74.1250  57.340931   4862300\n",
       "1999-05-10  73.3750  73.500  70.2500  70.6875  54.681774   2589400"
      ]
     },
     "execution_count": 3,
     "metadata": {},
     "output_type": "execute_result"
    }
   ],
   "source": [
    "df.head()"
   ]
  },
  {
   "cell_type": "code",
   "execution_count": 4,
   "metadata": {},
   "outputs": [
    {
     "data": {
      "text/plain": [
       "1116"
      ]
     },
     "execution_count": 4,
     "metadata": {},
     "output_type": "execute_result"
    }
   ],
   "source": [
    "train_size = int(len(df)*0.8)\n",
    "train_size\n",
    "test_size = len(df)-train_size\n",
    "test_size"
   ]
  },
  {
   "cell_type": "code",
   "execution_count": 5,
   "metadata": {},
   "outputs": [],
   "source": [
    "df2 = df[['Adj Close']]"
   ]
  },
  {
   "cell_type": "code",
   "execution_count": 6,
   "metadata": {},
   "outputs": [],
   "source": [
    "df2 = df2.asfreq('b')"
   ]
  },
  {
   "cell_type": "code",
   "execution_count": 7,
   "metadata": {},
   "outputs": [
    {
     "data": {
      "text/html": [
       "<div>\n",
       "<style scoped>\n",
       "    .dataframe tbody tr th:only-of-type {\n",
       "        vertical-align: middle;\n",
       "    }\n",
       "\n",
       "    .dataframe tbody tr th {\n",
       "        vertical-align: top;\n",
       "    }\n",
       "\n",
       "    .dataframe thead th {\n",
       "        text-align: right;\n",
       "    }\n",
       "</style>\n",
       "<table border=\"1\" class=\"dataframe\">\n",
       "  <thead>\n",
       "    <tr style=\"text-align: right;\">\n",
       "      <th></th>\n",
       "      <th>Adj Close</th>\n",
       "    </tr>\n",
       "    <tr>\n",
       "      <th>Date</th>\n",
       "      <th></th>\n",
       "    </tr>\n",
       "  </thead>\n",
       "  <tbody>\n",
       "    <tr>\n",
       "      <th>1999-05-04</th>\n",
       "      <td>54.440052</td>\n",
       "    </tr>\n",
       "    <tr>\n",
       "      <th>1999-05-05</th>\n",
       "      <td>53.473076</td>\n",
       "    </tr>\n",
       "    <tr>\n",
       "      <th>1999-05-06</th>\n",
       "      <td>52.554470</td>\n",
       "    </tr>\n",
       "    <tr>\n",
       "      <th>1999-05-07</th>\n",
       "      <td>57.340931</td>\n",
       "    </tr>\n",
       "    <tr>\n",
       "      <th>1999-05-10</th>\n",
       "      <td>54.681774</td>\n",
       "    </tr>\n",
       "    <tr>\n",
       "      <th>...</th>\n",
       "      <td>...</td>\n",
       "    </tr>\n",
       "    <tr>\n",
       "      <th>2021-06-24</th>\n",
       "      <td>368.750000</td>\n",
       "    </tr>\n",
       "    <tr>\n",
       "      <th>2021-06-25</th>\n",
       "      <td>368.769989</td>\n",
       "    </tr>\n",
       "    <tr>\n",
       "      <th>2021-06-28</th>\n",
       "      <td>368.709991</td>\n",
       "    </tr>\n",
       "    <tr>\n",
       "      <th>2021-06-29</th>\n",
       "      <td>372.619995</td>\n",
       "    </tr>\n",
       "    <tr>\n",
       "      <th>2021-06-30</th>\n",
       "      <td>379.529999</td>\n",
       "    </tr>\n",
       "  </tbody>\n",
       "</table>\n",
       "<p>5782 rows × 1 columns</p>\n",
       "</div>"
      ],
      "text/plain": [
       "             Adj Close\n",
       "Date                  \n",
       "1999-05-04   54.440052\n",
       "1999-05-05   53.473076\n",
       "1999-05-06   52.554470\n",
       "1999-05-07   57.340931\n",
       "1999-05-10   54.681774\n",
       "...                ...\n",
       "2021-06-24  368.750000\n",
       "2021-06-25  368.769989\n",
       "2021-06-28  368.709991\n",
       "2021-06-29  372.619995\n",
       "2021-06-30  379.529999\n",
       "\n",
       "[5782 rows x 1 columns]"
      ]
     },
     "execution_count": 7,
     "metadata": {},
     "output_type": "execute_result"
    }
   ],
   "source": [
    "df2"
   ]
  },
  {
   "cell_type": "code",
   "execution_count": 8,
   "metadata": {},
   "outputs": [],
   "source": [
    "df2  = df2.fillna(method='ffill')"
   ]
  },
  {
   "cell_type": "code",
   "execution_count": 9,
   "metadata": {},
   "outputs": [
    {
     "data": {
      "text/html": [
       "<div>\n",
       "<style scoped>\n",
       "    .dataframe tbody tr th:only-of-type {\n",
       "        vertical-align: middle;\n",
       "    }\n",
       "\n",
       "    .dataframe tbody tr th {\n",
       "        vertical-align: top;\n",
       "    }\n",
       "\n",
       "    .dataframe thead th {\n",
       "        text-align: right;\n",
       "    }\n",
       "</style>\n",
       "<table border=\"1\" class=\"dataframe\">\n",
       "  <thead>\n",
       "    <tr style=\"text-align: right;\">\n",
       "      <th></th>\n",
       "      <th>Adj Close</th>\n",
       "    </tr>\n",
       "    <tr>\n",
       "      <th>Date</th>\n",
       "      <th></th>\n",
       "    </tr>\n",
       "  </thead>\n",
       "  <tbody>\n",
       "    <tr>\n",
       "      <th>2016-06-08</th>\n",
       "      <td>142.082199</td>\n",
       "    </tr>\n",
       "    <tr>\n",
       "      <th>2016-06-09</th>\n",
       "      <td>140.731583</td>\n",
       "    </tr>\n",
       "    <tr>\n",
       "      <th>2016-06-10</th>\n",
       "      <td>137.717941</td>\n",
       "    </tr>\n",
       "    <tr>\n",
       "      <th>2016-06-13</th>\n",
       "      <td>136.560257</td>\n",
       "    </tr>\n",
       "    <tr>\n",
       "      <th>2016-06-14</th>\n",
       "      <td>134.318420</td>\n",
       "    </tr>\n",
       "    <tr>\n",
       "      <th>...</th>\n",
       "      <td>...</td>\n",
       "    </tr>\n",
       "    <tr>\n",
       "      <th>2021-06-24</th>\n",
       "      <td>368.750000</td>\n",
       "    </tr>\n",
       "    <tr>\n",
       "      <th>2021-06-25</th>\n",
       "      <td>368.769989</td>\n",
       "    </tr>\n",
       "    <tr>\n",
       "      <th>2021-06-28</th>\n",
       "      <td>368.709991</td>\n",
       "    </tr>\n",
       "    <tr>\n",
       "      <th>2021-06-29</th>\n",
       "      <td>372.619995</td>\n",
       "    </tr>\n",
       "    <tr>\n",
       "      <th>2021-06-30</th>\n",
       "      <td>379.529999</td>\n",
       "    </tr>\n",
       "  </tbody>\n",
       "</table>\n",
       "<p>1321 rows × 1 columns</p>\n",
       "</div>"
      ],
      "text/plain": [
       "             Adj Close\n",
       "Date                  \n",
       "2016-06-08  142.082199\n",
       "2016-06-09  140.731583\n",
       "2016-06-10  137.717941\n",
       "2016-06-13  136.560257\n",
       "2016-06-14  134.318420\n",
       "...                ...\n",
       "2021-06-24  368.750000\n",
       "2021-06-25  368.769989\n",
       "2021-06-28  368.709991\n",
       "2021-06-29  372.619995\n",
       "2021-06-30  379.529999\n",
       "\n",
       "[1321 rows x 1 columns]"
      ]
     },
     "execution_count": 9,
     "metadata": {},
     "output_type": "execute_result"
    }
   ],
   "source": [
    "df_train = df2[:train_size]\n",
    "df_train\n",
    "df_test = df2[train_size:]\n",
    "df_test"
   ]
  },
  {
   "cell_type": "code",
   "execution_count": 10,
   "metadata": {},
   "outputs": [
    {
     "data": {
      "text/plain": [
       "(-1.974337965583405,\n",
       " 0.2979370983216577,\n",
       " 10,\n",
       " 4450,\n",
       " {'1%': -3.431820354190133,\n",
       "  '5%': -2.8621897198837396,\n",
       "  '10%': -2.567115849715945},\n",
       " 20340.737330843032)"
      ]
     },
     "execution_count": 10,
     "metadata": {},
     "output_type": "execute_result"
    }
   ],
   "source": [
    "sts.adfuller(df_train)"
   ]
  },
  {
   "cell_type": "code",
   "execution_count": 11,
   "metadata": {},
   "outputs": [
    {
     "data": {
      "text/html": [
       "<div>\n",
       "<style scoped>\n",
       "    .dataframe tbody tr th:only-of-type {\n",
       "        vertical-align: middle;\n",
       "    }\n",
       "\n",
       "    .dataframe tbody tr th {\n",
       "        vertical-align: top;\n",
       "    }\n",
       "\n",
       "    .dataframe thead th {\n",
       "        text-align: right;\n",
       "    }\n",
       "</style>\n",
       "<table border=\"1\" class=\"dataframe\">\n",
       "  <thead>\n",
       "    <tr style=\"text-align: right;\">\n",
       "      <th></th>\n",
       "      <th>Adj Close</th>\n",
       "    </tr>\n",
       "    <tr>\n",
       "      <th>Date</th>\n",
       "      <th></th>\n",
       "    </tr>\n",
       "  </thead>\n",
       "  <tbody>\n",
       "    <tr>\n",
       "      <th>1999-05-04</th>\n",
       "      <td>3.997100</td>\n",
       "    </tr>\n",
       "    <tr>\n",
       "      <th>1999-05-05</th>\n",
       "      <td>3.979178</td>\n",
       "    </tr>\n",
       "    <tr>\n",
       "      <th>1999-05-06</th>\n",
       "      <td>3.961850</td>\n",
       "    </tr>\n",
       "    <tr>\n",
       "      <th>1999-05-07</th>\n",
       "      <td>4.049015</td>\n",
       "    </tr>\n",
       "    <tr>\n",
       "      <th>1999-05-10</th>\n",
       "      <td>4.001530</td>\n",
       "    </tr>\n",
       "    <tr>\n",
       "      <th>...</th>\n",
       "      <td>...</td>\n",
       "    </tr>\n",
       "    <tr>\n",
       "      <th>2016-06-01</th>\n",
       "      <td>4.990292</td>\n",
       "    </tr>\n",
       "    <tr>\n",
       "      <th>2016-06-02</th>\n",
       "      <td>4.985970</td>\n",
       "    </tr>\n",
       "    <tr>\n",
       "      <th>2016-06-03</th>\n",
       "      <td>4.963044</td>\n",
       "    </tr>\n",
       "    <tr>\n",
       "      <th>2016-06-06</th>\n",
       "      <td>4.971934</td>\n",
       "    </tr>\n",
       "    <tr>\n",
       "      <th>2016-06-07</th>\n",
       "      <td>4.959827</td>\n",
       "    </tr>\n",
       "  </tbody>\n",
       "</table>\n",
       "<p>4461 rows × 1 columns</p>\n",
       "</div>"
      ],
      "text/plain": [
       "            Adj Close\n",
       "Date                 \n",
       "1999-05-04   3.997100\n",
       "1999-05-05   3.979178\n",
       "1999-05-06   3.961850\n",
       "1999-05-07   4.049015\n",
       "1999-05-10   4.001530\n",
       "...               ...\n",
       "2016-06-01   4.990292\n",
       "2016-06-02   4.985970\n",
       "2016-06-03   4.963044\n",
       "2016-06-06   4.971934\n",
       "2016-06-07   4.959827\n",
       "\n",
       "[4461 rows x 1 columns]"
      ]
     },
     "execution_count": 11,
     "metadata": {},
     "output_type": "execute_result"
    }
   ],
   "source": [
    "df_train_log = np.log(df_train)\n",
    "df_train_log"
   ]
  },
  {
   "cell_type": "code",
   "execution_count": 12,
   "metadata": {},
   "outputs": [
    {
     "data": {
      "text/plain": [
       "(-2.5397852560478347,\n",
       " 0.10609172474091239,\n",
       " 30,\n",
       " 4430,\n",
       " {'1%': -3.431826996210462,\n",
       "  '5%': -2.8621926541301295,\n",
       "  '10%': -2.567117411757512},\n",
       " -20490.90958080197)"
      ]
     },
     "execution_count": 12,
     "metadata": {},
     "output_type": "execute_result"
    }
   ],
   "source": [
    "sts.adfuller(df_train_log)"
   ]
  },
  {
   "cell_type": "code",
   "execution_count": 13,
   "metadata": {},
   "outputs": [],
   "source": [
    "df_diff_log = df_train_log - df_train_log.shift()"
   ]
  },
  {
   "cell_type": "code",
   "execution_count": 14,
   "metadata": {},
   "outputs": [
    {
     "data": {
      "text/plain": [
       "(-10.704521011905351,\n",
       " 3.454988924754835e-19,\n",
       " 29,\n",
       " 4430,\n",
       " {'1%': -3.431826996210462,\n",
       "  '5%': -2.8621926541301295,\n",
       "  '10%': -2.567117411757512},\n",
       " -20481.065052541857)"
      ]
     },
     "execution_count": 14,
     "metadata": {},
     "output_type": "execute_result"
    }
   ],
   "source": [
    "sts.adfuller(df_diff_log[1:])"
   ]
  },
  {
   "cell_type": "code",
   "execution_count": 15,
   "metadata": {},
   "outputs": [
    {
     "data": {
      "text/plain": [
       "Text(0.5, 1.0, 'Auto')"
      ]
     },
     "execution_count": 15,
     "metadata": {},
     "output_type": "execute_result"
    },
    {
     "data": {
      "image/png": "[encoded data removed]",
      "text/plain": [
       "<Figure size 432x288 with 1 Axes>"
      ]
     },
     "metadata": {
      "needs_background": "light"
     },
     "output_type": "display_data"
    }
   ],
   "source": [
    "sgt.plot_acf(df_diff_log[1:],lags=20)\n",
    "plt.title(\"Auto\",size=24)"
   ]
  },
  {
   "cell_type": "code",
   "execution_count": 16,
   "metadata": {},
   "outputs": [
    {
     "data": {
      "text/plain": [
       "Text(0.5, 1.0, 'Partial Auto')"
      ]
     },
     "execution_count": 16,
     "metadata": {},
     "output_type": "execute_result"
    },
    {
     "data": {
      "image/png": "[encoded data removed]",
      "text/plain": [
       "<Figure size 432x288 with 1 Axes>"
      ]
     },
     "metadata": {
      "needs_background": "light"
     },
     "output_type": "display_data"
    }
   ],
   "source": [
    "sgt.plot_pacf(df_diff_log[1:],lags=20)\n",
    "plt.title(\"Partial Auto\",size=24)"
   ]
  },
  {
   "cell_type": "code",
   "execution_count": 17,
   "metadata": {},
   "outputs": [],
   "source": [
    "from pmdarima import auto_arima"
   ]
  },
  {
   "cell_type": "code",
   "execution_count": 18,
   "metadata": {},
   "outputs": [],
   "source": [
    "#result = auto_arima(df_train_log,trace=True, suppress_warnings=True)"
   ]
  },
  {
   "cell_type": "code",
   "execution_count": 19,
   "metadata": {},
   "outputs": [],
   "source": [
    "model1 = ARIMA(df_train_log,order=(3,1,3))\n",
    "result1 =model1.fit()"
   ]
  },
  {
   "cell_type": "code",
   "execution_count": 20,
   "metadata": {},
   "outputs": [
    {
     "data": {
      "text/html": [
       "<table class=\"simpletable\">\n",
       "<caption>ARIMA Model Results</caption>\n",
       "<tr>\n",
       "  <th>Dep. Variable:</th>    <td>D.Adj Close</td>   <th>  No. Observations:  </th>    <td>4460</td>   \n",
       "</tr>\n",
       "<tr>\n",
       "  <th>Model:</th>          <td>ARIMA(3, 1, 3)</td>  <th>  Log Likelihood     </th>  <td>10300.936</td>\n",
       "</tr>\n",
       "<tr>\n",
       "  <th>Method:</th>             <td>css-mle</td>     <th>  S.D. of innovations</th>    <td>0.024</td>  \n",
       "</tr>\n",
       "<tr>\n",
       "  <th>Date:</th>          <td>Wed, 14 Jul 2021</td> <th>  AIC                </th> <td>-20585.871</td>\n",
       "</tr>\n",
       "<tr>\n",
       "  <th>Time:</th>              <td>11:18:51</td>     <th>  BIC                </th> <td>-20534.648</td>\n",
       "</tr>\n",
       "<tr>\n",
       "  <th>Sample:</th>           <td>05-05-1999</td>    <th>  HQIC               </th> <td>-20567.814</td>\n",
       "</tr>\n",
       "<tr>\n",
       "  <th></th>                 <td>- 06-07-2016</td>   <th>                     </th>      <td> </td>    \n",
       "</tr>\n",
       "</table>\n",
       "<table class=\"simpletable\">\n",
       "<tr>\n",
       "          <td></td>             <th>coef</th>     <th>std err</th>      <th>z</th>      <th>P>|z|</th>  <th>[0.025</th>    <th>0.975]</th>  \n",
       "</tr>\n",
       "<tr>\n",
       "  <th>const</th>             <td>    0.0003</td> <td>    0.000</td> <td>    0.876</td> <td> 0.381</td> <td>   -0.000</td> <td>    0.001</td>\n",
       "</tr>\n",
       "<tr>\n",
       "  <th>ar.L1.D.Adj Close</th> <td>   -0.1653</td> <td>    0.184</td> <td>   -0.896</td> <td> 0.370</td> <td>   -0.527</td> <td>    0.196</td>\n",
       "</tr>\n",
       "<tr>\n",
       "  <th>ar.L2.D.Adj Close</th> <td>   -0.1124</td> <td>    0.302</td> <td>   -0.372</td> <td> 0.710</td> <td>   -0.704</td> <td>    0.479</td>\n",
       "</tr>\n",
       "<tr>\n",
       "  <th>ar.L3.D.Adj Close</th> <td>    0.5082</td> <td>    0.084</td> <td>    6.022</td> <td> 0.000</td> <td>    0.343</td> <td>    0.674</td>\n",
       "</tr>\n",
       "<tr>\n",
       "  <th>ma.L1.D.Adj Close</th> <td>    0.1213</td> <td>    0.179</td> <td>    0.678</td> <td> 0.498</td> <td>   -0.229</td> <td>    0.472</td>\n",
       "</tr>\n",
       "<tr>\n",
       "  <th>ma.L2.D.Adj Close</th> <td>    0.0628</td> <td>    0.292</td> <td>    0.215</td> <td> 0.830</td> <td>   -0.510</td> <td>    0.636</td>\n",
       "</tr>\n",
       "<tr>\n",
       "  <th>ma.L3.D.Adj Close</th> <td>   -0.5586</td> <td>    0.044</td> <td>  -12.655</td> <td> 0.000</td> <td>   -0.645</td> <td>   -0.472</td>\n",
       "</tr>\n",
       "</table>\n",
       "<table class=\"simpletable\">\n",
       "<caption>Roots</caption>\n",
       "<tr>\n",
       "    <td></td>   <th>            Real</th>  <th>         Imaginary</th> <th>         Modulus</th>  <th>        Frequency</th>\n",
       "</tr>\n",
       "<tr>\n",
       "  <th>AR.1</th> <td>          -0.6007</td> <td>          -1.0113j</td> <td>           1.1762</td> <td>          -0.3353</td>\n",
       "</tr>\n",
       "<tr>\n",
       "  <th>AR.2</th> <td>          -0.6007</td> <td>          +1.0113j</td> <td>           1.1762</td> <td>           0.3353</td>\n",
       "</tr>\n",
       "<tr>\n",
       "  <th>AR.3</th> <td>           1.4224</td> <td>          -0.0000j</td> <td>           1.4224</td> <td>          -0.0000</td>\n",
       "</tr>\n",
       "<tr>\n",
       "  <th>MA.1</th> <td>          -0.6009</td> <td>          -1.0006j</td> <td>           1.1671</td> <td>          -0.3361</td>\n",
       "</tr>\n",
       "<tr>\n",
       "  <th>MA.2</th> <td>          -0.6009</td> <td>          +1.0006j</td> <td>           1.1671</td> <td>           0.3361</td>\n",
       "</tr>\n",
       "<tr>\n",
       "  <th>MA.3</th> <td>           1.3142</td> <td>          -0.0000j</td> <td>           1.3142</td> <td>          -0.0000</td>\n",
       "</tr>\n",
       "</table>"
      ],
      "text/plain": [
       "<class 'statsmodels.iolib.summary.Summary'>\n",
       "\"\"\"\n",
       "                             ARIMA Model Results                              \n",
       "==============================================================================\n",
       "Dep. Variable:            D.Adj Close   No. Observations:                 4460\n",
       "Model:                 ARIMA(3, 1, 3)   Log Likelihood               10300.936\n",
       "Method:                       css-mle   S.D. of innovations              0.024\n",
       "Date:                Wed, 14 Jul 2021   AIC                         -20585.871\n",
       "Time:                        11:18:51   BIC                         -20534.648\n",
       "Sample:                    05-05-1999   HQIC                        -20567.814\n",
       "                         - 06-07-2016                                         \n",
       "=====================================================================================\n",
       "                        coef    std err          z      P>|z|      [0.025      0.975]\n",
       "-------------------------------------------------------------------------------------\n",
       "const                 0.0003      0.000      0.876      0.381      -0.000       0.001\n",
       "ar.L1.D.Adj Close    -0.1653      0.184     -0.896      0.370      -0.527       0.196\n",
       "ar.L2.D.Adj Close    -0.1124      0.302     -0.372      0.710      -0.704       0.479\n",
       "ar.L3.D.Adj Close     0.5082      0.084      6.022      0.000       0.343       0.674\n",
       "ma.L1.D.Adj Close     0.1213      0.179      0.678      0.498      -0.229       0.472\n",
       "ma.L2.D.Adj Close     0.0628      0.292      0.215      0.830      -0.510       0.636\n",
       "ma.L3.D.Adj Close    -0.5586      0.044    -12.655      0.000      -0.645      -0.472\n",
       "                                    Roots                                    \n",
       "=============================================================================\n",
       "                  Real          Imaginary           Modulus         Frequency\n",
       "-----------------------------------------------------------------------------\n",
       "AR.1           -0.6007           -1.0113j            1.1762           -0.3353\n",
       "AR.2           -0.6007           +1.0113j            1.1762            0.3353\n",
       "AR.3            1.4224           -0.0000j            1.4224           -0.0000\n",
       "MA.1           -0.6009           -1.0006j            1.1671           -0.3361\n",
       "MA.2           -0.6009           +1.0006j            1.1671            0.3361\n",
       "MA.3            1.3142           -0.0000j            1.3142           -0.0000\n",
       "-----------------------------------------------------------------------------\n",
       "\"\"\""
      ]
     },
     "execution_count": 20,
     "metadata": {},
     "output_type": "execute_result"
    }
   ],
   "source": [
    "result1.summary()"
   ]
  },
  {
   "cell_type": "code",
   "execution_count": 21,
   "metadata": {},
   "outputs": [],
   "source": [
    "model0 = ARIMA(df_train_log,order=(0,1,1))\n",
    "result0 = model0.fit()"
   ]
  },
  {
   "cell_type": "code",
   "execution_count": 22,
   "metadata": {},
   "outputs": [
    {
     "data": {
      "text/html": [
       "<table class=\"simpletable\">\n",
       "<caption>ARIMA Model Results</caption>\n",
       "<tr>\n",
       "  <th>Dep. Variable:</th>    <td>D.Adj Close</td>   <th>  No. Observations:  </th>    <td>4460</td>   \n",
       "</tr>\n",
       "<tr>\n",
       "  <th>Model:</th>          <td>ARIMA(0, 1, 1)</td>  <th>  Log Likelihood     </th>  <td>10294.691</td>\n",
       "</tr>\n",
       "<tr>\n",
       "  <th>Method:</th>             <td>css-mle</td>     <th>  S.D. of innovations</th>    <td>0.024</td>  \n",
       "</tr>\n",
       "<tr>\n",
       "  <th>Date:</th>          <td>Wed, 14 Jul 2021</td> <th>  AIC                </th> <td>-20583.381</td>\n",
       "</tr>\n",
       "<tr>\n",
       "  <th>Time:</th>              <td>11:18:52</td>     <th>  BIC                </th> <td>-20564.173</td>\n",
       "</tr>\n",
       "<tr>\n",
       "  <th>Sample:</th>           <td>05-05-1999</td>    <th>  HQIC               </th> <td>-20576.610</td>\n",
       "</tr>\n",
       "<tr>\n",
       "  <th></th>                 <td>- 06-07-2016</td>   <th>                     </th>      <td> </td>    \n",
       "</tr>\n",
       "</table>\n",
       "<table class=\"simpletable\">\n",
       "<tr>\n",
       "          <td></td>             <th>coef</th>     <th>std err</th>      <th>z</th>      <th>P>|z|</th>  <th>[0.025</th>    <th>0.975]</th>  \n",
       "</tr>\n",
       "<tr>\n",
       "  <th>const</th>             <td>    0.0002</td> <td>    0.000</td> <td>    0.632</td> <td> 0.528</td> <td>   -0.000</td> <td>    0.001</td>\n",
       "</tr>\n",
       "<tr>\n",
       "  <th>ma.L1.D.Adj Close</th> <td>   -0.0499</td> <td>    0.015</td> <td>   -3.245</td> <td> 0.001</td> <td>   -0.080</td> <td>   -0.020</td>\n",
       "</tr>\n",
       "</table>\n",
       "<table class=\"simpletable\">\n",
       "<caption>Roots</caption>\n",
       "<tr>\n",
       "    <td></td>   <th>            Real</th>  <th>         Imaginary</th> <th>         Modulus</th>  <th>        Frequency</th>\n",
       "</tr>\n",
       "<tr>\n",
       "  <th>MA.1</th> <td>          20.0249</td> <td>          +0.0000j</td> <td>          20.0249</td> <td>           0.0000</td>\n",
       "</tr>\n",
       "</table>"
      ],
      "text/plain": [
       "<class 'statsmodels.iolib.summary.Summary'>\n",
       "\"\"\"\n",
       "                             ARIMA Model Results                              \n",
       "==============================================================================\n",
       "Dep. Variable:            D.Adj Close   No. Observations:                 4460\n",
       "Model:                 ARIMA(0, 1, 1)   Log Likelihood               10294.691\n",
       "Method:                       css-mle   S.D. of innovations              0.024\n",
       "Date:                Wed, 14 Jul 2021   AIC                         -20583.381\n",
       "Time:                        11:18:52   BIC                         -20564.173\n",
       "Sample:                    05-05-1999   HQIC                        -20576.610\n",
       "                         - 06-07-2016                                         \n",
       "=====================================================================================\n",
       "                        coef    std err          z      P>|z|      [0.025      0.975]\n",
       "-------------------------------------------------------------------------------------\n",
       "const                 0.0002      0.000      0.632      0.528      -0.000       0.001\n",
       "ma.L1.D.Adj Close    -0.0499      0.015     -3.245      0.001      -0.080      -0.020\n",
       "                                    Roots                                    \n",
       "=============================================================================\n",
       "                  Real          Imaginary           Modulus         Frequency\n",
       "-----------------------------------------------------------------------------\n",
       "MA.1           20.0249           +0.0000j           20.0249            0.0000\n",
       "-----------------------------------------------------------------------------\n",
       "\"\"\""
      ]
     },
     "execution_count": 22,
     "metadata": {},
     "output_type": "execute_result"
    }
   ],
   "source": [
    "result0.summary()"
   ]
  },
  {
   "cell_type": "code",
   "execution_count": 23,
   "metadata": {},
   "outputs": [],
   "source": [
    "def LLR_test(model1,model2,DF=1):\n",
    "    l1 = model1.fit().llf\n",
    "    l2 = model2.fit().llf\n",
    "    lr = (2*(l2-l1))\n",
    "    p = chi2.sf(lr,DF).round(3)\n",
    "    return p"
   ]
  },
  {
   "cell_type": "code",
   "execution_count": 24,
   "metadata": {},
   "outputs": [
    {
     "data": {
      "text/plain": [
       "0.0"
      ]
     },
     "execution_count": 24,
     "metadata": {},
     "output_type": "execute_result"
    }
   ],
   "source": [
    "LLR_test(model0,model1)"
   ]
  },
  {
   "cell_type": "code",
   "execution_count": 25,
   "metadata": {},
   "outputs": [],
   "source": [
    "model3 = ARIMA(df_train_log,order=(1,1,0))\n",
    "result3 = model3.fit()"
   ]
  },
  {
   "cell_type": "code",
   "execution_count": 26,
   "metadata": {},
   "outputs": [
    {
     "data": {
      "text/html": [
       "<table class=\"simpletable\">\n",
       "<caption>ARIMA Model Results</caption>\n",
       "<tr>\n",
       "  <th>Dep. Variable:</th>    <td>D.Adj Close</td>   <th>  No. Observations:  </th>    <td>4460</td>   \n",
       "</tr>\n",
       "<tr>\n",
       "  <th>Model:</th>          <td>ARIMA(1, 1, 0)</td>  <th>  Log Likelihood     </th>  <td>10294.408</td>\n",
       "</tr>\n",
       "<tr>\n",
       "  <th>Method:</th>             <td>css-mle</td>     <th>  S.D. of innovations</th>    <td>0.024</td>  \n",
       "</tr>\n",
       "<tr>\n",
       "  <th>Date:</th>          <td>Wed, 14 Jul 2021</td> <th>  AIC                </th> <td>-20582.817</td>\n",
       "</tr>\n",
       "<tr>\n",
       "  <th>Time:</th>              <td>11:18:54</td>     <th>  BIC                </th> <td>-20563.608</td>\n",
       "</tr>\n",
       "<tr>\n",
       "  <th>Sample:</th>           <td>05-05-1999</td>    <th>  HQIC               </th> <td>-20576.045</td>\n",
       "</tr>\n",
       "<tr>\n",
       "  <th></th>                 <td>- 06-07-2016</td>   <th>                     </th>      <td> </td>    \n",
       "</tr>\n",
       "</table>\n",
       "<table class=\"simpletable\">\n",
       "<tr>\n",
       "          <td></td>             <th>coef</th>     <th>std err</th>      <th>z</th>      <th>P>|z|</th>  <th>[0.025</th>    <th>0.975]</th>  \n",
       "</tr>\n",
       "<tr>\n",
       "  <th>const</th>             <td>    0.0002</td> <td>    0.000</td> <td>    0.628</td> <td> 0.530</td> <td>   -0.000</td> <td>    0.001</td>\n",
       "</tr>\n",
       "<tr>\n",
       "  <th>ar.L1.D.Adj Close</th> <td>   -0.0472</td> <td>    0.015</td> <td>   -3.156</td> <td> 0.002</td> <td>   -0.077</td> <td>   -0.018</td>\n",
       "</tr>\n",
       "</table>\n",
       "<table class=\"simpletable\">\n",
       "<caption>Roots</caption>\n",
       "<tr>\n",
       "    <td></td>   <th>            Real</th>  <th>         Imaginary</th> <th>         Modulus</th>  <th>        Frequency</th>\n",
       "</tr>\n",
       "<tr>\n",
       "  <th>AR.1</th> <td>         -21.1838</td> <td>          +0.0000j</td> <td>          21.1838</td> <td>           0.5000</td>\n",
       "</tr>\n",
       "</table>"
      ],
      "text/plain": [
       "<class 'statsmodels.iolib.summary.Summary'>\n",
       "\"\"\"\n",
       "                             ARIMA Model Results                              \n",
       "==============================================================================\n",
       "Dep. Variable:            D.Adj Close   No. Observations:                 4460\n",
       "Model:                 ARIMA(1, 1, 0)   Log Likelihood               10294.408\n",
       "Method:                       css-mle   S.D. of innovations              0.024\n",
       "Date:                Wed, 14 Jul 2021   AIC                         -20582.817\n",
       "Time:                        11:18:54   BIC                         -20563.608\n",
       "Sample:                    05-05-1999   HQIC                        -20576.045\n",
       "                         - 06-07-2016                                         \n",
       "=====================================================================================\n",
       "                        coef    std err          z      P>|z|      [0.025      0.975]\n",
       "-------------------------------------------------------------------------------------\n",
       "const                 0.0002      0.000      0.628      0.530      -0.000       0.001\n",
       "ar.L1.D.Adj Close    -0.0472      0.015     -3.156      0.002      -0.077      -0.018\n",
       "                                    Roots                                    \n",
       "=============================================================================\n",
       "                  Real          Imaginary           Modulus         Frequency\n",
       "-----------------------------------------------------------------------------\n",
       "AR.1          -21.1838           +0.0000j           21.1838            0.5000\n",
       "-----------------------------------------------------------------------------\n",
       "\"\"\""
      ]
     },
     "execution_count": 26,
     "metadata": {},
     "output_type": "execute_result"
    }
   ],
   "source": [
    "result3.summary()"
   ]
  },
  {
   "cell_type": "code",
   "execution_count": 27,
   "metadata": {},
   "outputs": [
    {
     "data": {
      "text/plain": [
       "0.0"
      ]
     },
     "execution_count": 27,
     "metadata": {},
     "output_type": "execute_result"
    }
   ],
   "source": [
    "LLR_test(model3,model1)"
   ]
  },
  {
   "cell_type": "code",
   "execution_count": 28,
   "metadata": {},
   "outputs": [],
   "source": [
    "diff= df_train_log -df_train_log.shift()"
   ]
  },
  {
   "cell_type": "code",
   "execution_count": 29,
   "metadata": {},
   "outputs": [
    {
     "data": {
      "text/plain": [
       "[<matplotlib.lines.Line2D at 0x24286b3ed30>]"
      ]
     },
     "execution_count": 29,
     "metadata": {},
     "output_type": "execute_result"
    },
    {
     "data": {
      "image/png": "[encoded data removed]",
      "text/plain": [
       "<Figure size 2160x1080 with 1 Axes>"
      ]
     },
     "metadata": {
      "needs_background": "light"
     },
     "output_type": "display_data"
    }
   ],
   "source": [
    "plt.figure(figsize = (30,15))\n",
    "plt.plot(diff,color='Blue')\n",
    "plt.plot(result1.fittedvalues,color='red')"
   ]
  },
  {
   "cell_type": "code",
   "execution_count": 30,
   "metadata": {},
   "outputs": [
    {
     "data": {
      "text/html": [
       "<table class=\"simpletable\">\n",
       "<caption>ARIMA Model Results</caption>\n",
       "<tr>\n",
       "  <th>Dep. Variable:</th>    <td>D.Adj Close</td>   <th>  No. Observations:  </th>    <td>4460</td>   \n",
       "</tr>\n",
       "<tr>\n",
       "  <th>Model:</th>          <td>ARIMA(3, 1, 3)</td>  <th>  Log Likelihood     </th>  <td>10300.936</td>\n",
       "</tr>\n",
       "<tr>\n",
       "  <th>Method:</th>             <td>css-mle</td>     <th>  S.D. of innovations</th>    <td>0.024</td>  \n",
       "</tr>\n",
       "<tr>\n",
       "  <th>Date:</th>          <td>Wed, 14 Jul 2021</td> <th>  AIC                </th> <td>-20585.871</td>\n",
       "</tr>\n",
       "<tr>\n",
       "  <th>Time:</th>              <td>11:18:56</td>     <th>  BIC                </th> <td>-20534.648</td>\n",
       "</tr>\n",
       "<tr>\n",
       "  <th>Sample:</th>           <td>05-05-1999</td>    <th>  HQIC               </th> <td>-20567.814</td>\n",
       "</tr>\n",
       "<tr>\n",
       "  <th></th>                 <td>- 06-07-2016</td>   <th>                     </th>      <td> </td>    \n",
       "</tr>\n",
       "</table>\n",
       "<table class=\"simpletable\">\n",
       "<tr>\n",
       "          <td></td>             <th>coef</th>     <th>std err</th>      <th>z</th>      <th>P>|z|</th>  <th>[0.025</th>    <th>0.975]</th>  \n",
       "</tr>\n",
       "<tr>\n",
       "  <th>const</th>             <td>    0.0003</td> <td>    0.000</td> <td>    0.876</td> <td> 0.381</td> <td>   -0.000</td> <td>    0.001</td>\n",
       "</tr>\n",
       "<tr>\n",
       "  <th>ar.L1.D.Adj Close</th> <td>   -0.1653</td> <td>    0.184</td> <td>   -0.896</td> <td> 0.370</td> <td>   -0.527</td> <td>    0.196</td>\n",
       "</tr>\n",
       "<tr>\n",
       "  <th>ar.L2.D.Adj Close</th> <td>   -0.1124</td> <td>    0.302</td> <td>   -0.372</td> <td> 0.710</td> <td>   -0.704</td> <td>    0.479</td>\n",
       "</tr>\n",
       "<tr>\n",
       "  <th>ar.L3.D.Adj Close</th> <td>    0.5082</td> <td>    0.084</td> <td>    6.022</td> <td> 0.000</td> <td>    0.343</td> <td>    0.674</td>\n",
       "</tr>\n",
       "<tr>\n",
       "  <th>ma.L1.D.Adj Close</th> <td>    0.1213</td> <td>    0.179</td> <td>    0.678</td> <td> 0.498</td> <td>   -0.229</td> <td>    0.472</td>\n",
       "</tr>\n",
       "<tr>\n",
       "  <th>ma.L2.D.Adj Close</th> <td>    0.0628</td> <td>    0.292</td> <td>    0.215</td> <td> 0.830</td> <td>   -0.510</td> <td>    0.636</td>\n",
       "</tr>\n",
       "<tr>\n",
       "  <th>ma.L3.D.Adj Close</th> <td>   -0.5586</td> <td>    0.044</td> <td>  -12.655</td> <td> 0.000</td> <td>   -0.645</td> <td>   -0.472</td>\n",
       "</tr>\n",
       "</table>\n",
       "<table class=\"simpletable\">\n",
       "<caption>Roots</caption>\n",
       "<tr>\n",
       "    <td></td>   <th>            Real</th>  <th>         Imaginary</th> <th>         Modulus</th>  <th>        Frequency</th>\n",
       "</tr>\n",
       "<tr>\n",
       "  <th>AR.1</th> <td>          -0.6007</td> <td>          -1.0113j</td> <td>           1.1762</td> <td>          -0.3353</td>\n",
       "</tr>\n",
       "<tr>\n",
       "  <th>AR.2</th> <td>          -0.6007</td> <td>          +1.0113j</td> <td>           1.1762</td> <td>           0.3353</td>\n",
       "</tr>\n",
       "<tr>\n",
       "  <th>AR.3</th> <td>           1.4224</td> <td>          -0.0000j</td> <td>           1.4224</td> <td>          -0.0000</td>\n",
       "</tr>\n",
       "<tr>\n",
       "  <th>MA.1</th> <td>          -0.6009</td> <td>          -1.0006j</td> <td>           1.1671</td> <td>          -0.3361</td>\n",
       "</tr>\n",
       "<tr>\n",
       "  <th>MA.2</th> <td>          -0.6009</td> <td>          +1.0006j</td> <td>           1.1671</td> <td>           0.3361</td>\n",
       "</tr>\n",
       "<tr>\n",
       "  <th>MA.3</th> <td>           1.3142</td> <td>          -0.0000j</td> <td>           1.3142</td> <td>          -0.0000</td>\n",
       "</tr>\n",
       "</table>"
      ],
      "text/plain": [
       "<class 'statsmodels.iolib.summary.Summary'>\n",
       "\"\"\"\n",
       "                             ARIMA Model Results                              \n",
       "==============================================================================\n",
       "Dep. Variable:            D.Adj Close   No. Observations:                 4460\n",
       "Model:                 ARIMA(3, 1, 3)   Log Likelihood               10300.936\n",
       "Method:                       css-mle   S.D. of innovations              0.024\n",
       "Date:                Wed, 14 Jul 2021   AIC                         -20585.871\n",
       "Time:                        11:18:56   BIC                         -20534.648\n",
       "Sample:                    05-05-1999   HQIC                        -20567.814\n",
       "                         - 06-07-2016                                         \n",
       "=====================================================================================\n",
       "                        coef    std err          z      P>|z|      [0.025      0.975]\n",
       "-------------------------------------------------------------------------------------\n",
       "const                 0.0003      0.000      0.876      0.381      -0.000       0.001\n",
       "ar.L1.D.Adj Close    -0.1653      0.184     -0.896      0.370      -0.527       0.196\n",
       "ar.L2.D.Adj Close    -0.1124      0.302     -0.372      0.710      -0.704       0.479\n",
       "ar.L3.D.Adj Close     0.5082      0.084      6.022      0.000       0.343       0.674\n",
       "ma.L1.D.Adj Close     0.1213      0.179      0.678      0.498      -0.229       0.472\n",
       "ma.L2.D.Adj Close     0.0628      0.292      0.215      0.830      -0.510       0.636\n",
       "ma.L3.D.Adj Close    -0.5586      0.044    -12.655      0.000      -0.645      -0.472\n",
       "                                    Roots                                    \n",
       "=============================================================================\n",
       "                  Real          Imaginary           Modulus         Frequency\n",
       "-----------------------------------------------------------------------------\n",
       "AR.1           -0.6007           -1.0113j            1.1762           -0.3353\n",
       "AR.2           -0.6007           +1.0113j            1.1762            0.3353\n",
       "AR.3            1.4224           -0.0000j            1.4224           -0.0000\n",
       "MA.1           -0.6009           -1.0006j            1.1671           -0.3361\n",
       "MA.2           -0.6009           +1.0006j            1.1671            0.3361\n",
       "MA.3            1.3142           -0.0000j            1.3142           -0.0000\n",
       "-----------------------------------------------------------------------------\n",
       "\"\"\""
      ]
     },
     "execution_count": 30,
     "metadata": {},
     "output_type": "execute_result"
    }
   ],
   "source": [
    "result1.summary()"
   ]
  },
  {
   "cell_type": "code",
   "execution_count": 31,
   "metadata": {},
   "outputs": [
    {
     "data": {
      "text/plain": [
       "Date\n",
       "1999-05-05    0.000256\n",
       "1999-05-06    0.000972\n",
       "1999-05-07    0.001715\n",
       "1999-05-10   -0.001982\n",
       "1999-05-11   -0.000436\n",
       "Freq: B, dtype: float64"
      ]
     },
     "execution_count": 31,
     "metadata": {},
     "output_type": "execute_result"
    }
   ],
   "source": [
    "pred_result1_diff = pd.Series(result1.fittedvalues,copy= True)\n",
    "pred_result1_diff.head()"
   ]
  },
  {
   "cell_type": "code",
   "execution_count": 32,
   "metadata": {},
   "outputs": [],
   "source": [
    "pred_result1_diff_sum = pred_result1_diff.cumsum()"
   ]
  },
  {
   "cell_type": "code",
   "execution_count": 33,
   "metadata": {},
   "outputs": [
    {
     "data": {
      "text/plain": [
       "Date\n",
       "1999-05-05    0.000256\n",
       "1999-05-06    0.001228\n",
       "1999-05-07    0.002943\n",
       "1999-05-10    0.000961\n",
       "1999-05-11    0.000525\n",
       "                ...   \n",
       "2016-06-01    1.177865\n",
       "2016-06-02    1.177576\n",
       "2016-06-03    1.177780\n",
       "2016-06-06    1.179005\n",
       "2016-06-07    1.179842\n",
       "Freq: B, Length: 4460, dtype: float64"
      ]
     },
     "execution_count": 33,
     "metadata": {},
     "output_type": "execute_result"
    }
   ],
   "source": [
    "pred_result1_diff_sum"
   ]
  },
  {
   "cell_type": "code",
   "execution_count": 34,
   "metadata": {},
   "outputs": [
    {
     "data": {
      "text/plain": [
       "Date\n",
       "1999-05-04    3.9971\n",
       "1999-05-05    3.9971\n",
       "1999-05-06    3.9971\n",
       "1999-05-07    3.9971\n",
       "1999-05-10    3.9971\n",
       "               ...  \n",
       "2016-06-01    3.9971\n",
       "2016-06-02    3.9971\n",
       "2016-06-03    3.9971\n",
       "2016-06-06    3.9971\n",
       "2016-06-07    3.9971\n",
       "Freq: B, Length: 4461, dtype: float64"
      ]
     },
     "execution_count": 34,
     "metadata": {},
     "output_type": "execute_result"
    }
   ],
   "source": [
    "pred_result1_log = pd.Series(df_train_log['Adj Close'].iloc[0],index=  df_train_log.index)\n",
    "pred_result1_log"
   ]
  },
  {
   "cell_type": "code",
   "execution_count": 35,
   "metadata": {},
   "outputs": [],
   "source": [
    "pred_result1_log = pred_result1_log.add(pred_result1_diff_sum,fill_value=0)"
   ]
  },
  {
   "cell_type": "code",
   "execution_count": 36,
   "metadata": {},
   "outputs": [
    {
     "data": {
      "text/plain": [
       "Date\n",
       "1999-05-04    3.997100\n",
       "1999-05-05    3.997356\n",
       "1999-05-06    3.998328\n",
       "1999-05-07    4.000043\n",
       "1999-05-10    3.998061\n",
       "                ...   \n",
       "2016-06-01    5.174965\n",
       "2016-06-02    5.174676\n",
       "2016-06-03    5.174880\n",
       "2016-06-06    5.176105\n",
       "2016-06-07    5.176942\n",
       "Freq: B, Length: 4461, dtype: float64"
      ]
     },
     "execution_count": 36,
     "metadata": {},
     "output_type": "execute_result"
    }
   ],
   "source": [
    "pred_result1_log"
   ]
  },
  {
   "cell_type": "code",
   "execution_count": 37,
   "metadata": {},
   "outputs": [],
   "source": [
    "pred_ARIMA = np.exp(pred_result1_log)"
   ]
  },
  {
   "cell_type": "code",
   "execution_count": 38,
   "metadata": {},
   "outputs": [
    {
     "data": {
      "text/plain": [
       "Date\n",
       "1999-05-04     54.440052\n",
       "1999-05-05     54.454004\n",
       "1999-05-06     54.506961\n",
       "1999-05-07     54.600504\n",
       "1999-05-10     54.492375\n",
       "                 ...    \n",
       "2016-06-01    176.790419\n",
       "2016-06-02    176.739346\n",
       "2016-06-03    176.775341\n",
       "2016-06-06    176.992106\n",
       "2016-06-07    177.140320\n",
       "Freq: B, Length: 4461, dtype: float64"
      ]
     },
     "execution_count": 38,
     "metadata": {},
     "output_type": "execute_result"
    }
   ],
   "source": [
    "pred_ARIMA\n"
   ]
  },
  {
   "cell_type": "code",
   "execution_count": 39,
   "metadata": {},
   "outputs": [
    {
     "data": {
      "text/plain": [
       "[<matplotlib.lines.Line2D at 0x24286bb8d60>]"
      ]
     },
     "execution_count": 39,
     "metadata": {},
     "output_type": "execute_result"
    },
    {
     "data": {
      "image/png": "[encoded data removed]",
      "text/plain": [
       "<Figure size 432x288 with 1 Axes>"
      ]
     },
     "metadata": {
      "needs_background": "light"
     },
     "output_type": "display_data"
    }
   ],
   "source": [
    "plt.plot(df_train,color='Red')\n",
    "plt.plot(pred_ARIMA,color='Blue')"
   ]
  },
  {
   "cell_type": "code",
   "execution_count": 40,
   "metadata": {},
   "outputs": [
    {
     "data": {
      "text/html": [
       "<div>\n",
       "<style scoped>\n",
       "    .dataframe tbody tr th:only-of-type {\n",
       "        vertical-align: middle;\n",
       "    }\n",
       "\n",
       "    .dataframe tbody tr th {\n",
       "        vertical-align: top;\n",
       "    }\n",
       "\n",
       "    .dataframe thead th {\n",
       "        text-align: right;\n",
       "    }\n",
       "</style>\n",
       "<table border=\"1\" class=\"dataframe\">\n",
       "  <thead>\n",
       "    <tr style=\"text-align: right;\">\n",
       "      <th></th>\n",
       "      <th>0</th>\n",
       "    </tr>\n",
       "  </thead>\n",
       "  <tbody>\n",
       "    <tr>\n",
       "      <th>2016-06-08</th>\n",
       "      <td>0.001381</td>\n",
       "    </tr>\n",
       "    <tr>\n",
       "      <th>2016-06-09</th>\n",
       "      <td>0.000752</td>\n",
       "    </tr>\n",
       "    <tr>\n",
       "      <th>2016-06-10</th>\n",
       "      <td>0.000996</td>\n",
       "    </tr>\n",
       "    <tr>\n",
       "      <th>2016-06-13</th>\n",
       "      <td>0.000650</td>\n",
       "    </tr>\n",
       "    <tr>\n",
       "      <th>2016-06-14</th>\n",
       "      <td>0.000360</td>\n",
       "    </tr>\n",
       "    <tr>\n",
       "      <th>...</th>\n",
       "      <td>...</td>\n",
       "    </tr>\n",
       "    <tr>\n",
       "      <th>2021-06-25</th>\n",
       "      <td>0.000256</td>\n",
       "    </tr>\n",
       "    <tr>\n",
       "      <th>2021-06-28</th>\n",
       "      <td>0.000256</td>\n",
       "    </tr>\n",
       "    <tr>\n",
       "      <th>2021-06-29</th>\n",
       "      <td>0.000256</td>\n",
       "    </tr>\n",
       "    <tr>\n",
       "      <th>2021-06-30</th>\n",
       "      <td>0.000256</td>\n",
       "    </tr>\n",
       "    <tr>\n",
       "      <th>2021-07-01</th>\n",
       "      <td>0.000256</td>\n",
       "    </tr>\n",
       "  </tbody>\n",
       "</table>\n",
       "<p>1322 rows × 1 columns</p>\n",
       "</div>"
      ],
      "text/plain": [
       "                   0\n",
       "2016-06-08  0.001381\n",
       "2016-06-09  0.000752\n",
       "2016-06-10  0.000996\n",
       "2016-06-13  0.000650\n",
       "2016-06-14  0.000360\n",
       "...              ...\n",
       "2021-06-25  0.000256\n",
       "2021-06-28  0.000256\n",
       "2021-06-29  0.000256\n",
       "2021-06-30  0.000256\n",
       "2021-07-01  0.000256\n",
       "\n",
       "[1322 rows x 1 columns]"
      ]
     },
     "execution_count": 40,
     "metadata": {},
     "output_type": "execute_result"
    }
   ],
   "source": [
    "test_pred = result1.predict(start=4461,end=5782,dynamic=True)\n",
    "test_pred = pd.DataFrame(test_pred)\n",
    "test_pred"
   ]
  },
  {
   "cell_type": "code",
   "execution_count": 41,
   "metadata": {},
   "outputs": [
    {
     "data": {
      "text/plain": [
       "5.176942185894327"
      ]
     },
     "execution_count": 41,
     "metadata": {},
     "output_type": "execute_result"
    }
   ],
   "source": [
    "#first = df_train_log.iloc[train_size-1]\n",
    "first = pred_result1_log[len(pred_result1_log)-1]\n",
    "first"
   ]
  },
  {
   "cell_type": "code",
   "execution_count": 42,
   "metadata": {},
   "outputs": [
    {
     "data": {
      "text/html": [
       "<div>\n",
       "<style scoped>\n",
       "    .dataframe tbody tr th:only-of-type {\n",
       "        vertical-align: middle;\n",
       "    }\n",
       "\n",
       "    .dataframe tbody tr th {\n",
       "        vertical-align: top;\n",
       "    }\n",
       "\n",
       "    .dataframe thead th {\n",
       "        text-align: right;\n",
       "    }\n",
       "</style>\n",
       "<table border=\"1\" class=\"dataframe\">\n",
       "  <thead>\n",
       "    <tr style=\"text-align: right;\">\n",
       "      <th></th>\n",
       "      <th>0</th>\n",
       "    </tr>\n",
       "  </thead>\n",
       "  <tbody>\n",
       "    <tr>\n",
       "      <th>2016-06-08</th>\n",
       "      <td>5.178323</td>\n",
       "    </tr>\n",
       "    <tr>\n",
       "      <th>2016-06-09</th>\n",
       "      <td>0.000752</td>\n",
       "    </tr>\n",
       "    <tr>\n",
       "      <th>2016-06-10</th>\n",
       "      <td>0.000996</td>\n",
       "    </tr>\n",
       "    <tr>\n",
       "      <th>2016-06-13</th>\n",
       "      <td>0.000650</td>\n",
       "    </tr>\n",
       "    <tr>\n",
       "      <th>2016-06-14</th>\n",
       "      <td>0.000360</td>\n",
       "    </tr>\n",
       "    <tr>\n",
       "      <th>...</th>\n",
       "      <td>...</td>\n",
       "    </tr>\n",
       "    <tr>\n",
       "      <th>2021-06-25</th>\n",
       "      <td>0.000256</td>\n",
       "    </tr>\n",
       "    <tr>\n",
       "      <th>2021-06-28</th>\n",
       "      <td>0.000256</td>\n",
       "    </tr>\n",
       "    <tr>\n",
       "      <th>2021-06-29</th>\n",
       "      <td>0.000256</td>\n",
       "    </tr>\n",
       "    <tr>\n",
       "      <th>2021-06-30</th>\n",
       "      <td>0.000256</td>\n",
       "    </tr>\n",
       "    <tr>\n",
       "      <th>2021-07-01</th>\n",
       "      <td>0.000256</td>\n",
       "    </tr>\n",
       "  </tbody>\n",
       "</table>\n",
       "<p>1322 rows × 1 columns</p>\n",
       "</div>"
      ],
      "text/plain": [
       "                   0\n",
       "2016-06-08  5.178323\n",
       "2016-06-09  0.000752\n",
       "2016-06-10  0.000996\n",
       "2016-06-13  0.000650\n",
       "2016-06-14  0.000360\n",
       "...              ...\n",
       "2021-06-25  0.000256\n",
       "2021-06-28  0.000256\n",
       "2021-06-29  0.000256\n",
       "2021-06-30  0.000256\n",
       "2021-07-01  0.000256\n",
       "\n",
       "[1322 rows x 1 columns]"
      ]
     },
     "execution_count": 42,
     "metadata": {},
     "output_type": "execute_result"
    }
   ],
   "source": [
    "# first[0]\n",
    "# test_pred.iloc[0] += first[0]\n",
    "# test_pred\n",
    "first\n",
    "test_pred.iloc[0] += first\n",
    "test_pred"
   ]
  },
  {
   "cell_type": "code",
   "execution_count": 43,
   "metadata": {},
   "outputs": [],
   "source": [
    "df_test_log = np.log(df_test)"
   ]
  },
  {
   "cell_type": "code",
   "execution_count": 44,
   "metadata": {},
   "outputs": [
    {
     "data": {
      "text/html": [
       "<div>\n",
       "<style scoped>\n",
       "    .dataframe tbody tr th:only-of-type {\n",
       "        vertical-align: middle;\n",
       "    }\n",
       "\n",
       "    .dataframe tbody tr th {\n",
       "        vertical-align: top;\n",
       "    }\n",
       "\n",
       "    .dataframe thead th {\n",
       "        text-align: right;\n",
       "    }\n",
       "</style>\n",
       "<table border=\"1\" class=\"dataframe\">\n",
       "  <thead>\n",
       "    <tr style=\"text-align: right;\">\n",
       "      <th></th>\n",
       "      <th>Adj Close</th>\n",
       "    </tr>\n",
       "    <tr>\n",
       "      <th>Date</th>\n",
       "      <th></th>\n",
       "    </tr>\n",
       "  </thead>\n",
       "  <tbody>\n",
       "    <tr>\n",
       "      <th>2016-06-08</th>\n",
       "      <td>4.956406</td>\n",
       "    </tr>\n",
       "    <tr>\n",
       "      <th>2016-06-09</th>\n",
       "      <td>4.946854</td>\n",
       "    </tr>\n",
       "    <tr>\n",
       "      <th>2016-06-10</th>\n",
       "      <td>4.925208</td>\n",
       "    </tr>\n",
       "    <tr>\n",
       "      <th>2016-06-13</th>\n",
       "      <td>4.916766</td>\n",
       "    </tr>\n",
       "    <tr>\n",
       "      <th>2016-06-14</th>\n",
       "      <td>4.900213</td>\n",
       "    </tr>\n",
       "    <tr>\n",
       "      <th>...</th>\n",
       "      <td>...</td>\n",
       "    </tr>\n",
       "    <tr>\n",
       "      <th>2021-06-24</th>\n",
       "      <td>5.910119</td>\n",
       "    </tr>\n",
       "    <tr>\n",
       "      <th>2021-06-25</th>\n",
       "      <td>5.910173</td>\n",
       "    </tr>\n",
       "    <tr>\n",
       "      <th>2021-06-28</th>\n",
       "      <td>5.910010</td>\n",
       "    </tr>\n",
       "    <tr>\n",
       "      <th>2021-06-29</th>\n",
       "      <td>5.920559</td>\n",
       "    </tr>\n",
       "    <tr>\n",
       "      <th>2021-06-30</th>\n",
       "      <td>5.938934</td>\n",
       "    </tr>\n",
       "  </tbody>\n",
       "</table>\n",
       "<p>1321 rows × 1 columns</p>\n",
       "</div>"
      ],
      "text/plain": [
       "            Adj Close\n",
       "Date                 \n",
       "2016-06-08   4.956406\n",
       "2016-06-09   4.946854\n",
       "2016-06-10   4.925208\n",
       "2016-06-13   4.916766\n",
       "2016-06-14   4.900213\n",
       "...               ...\n",
       "2021-06-24   5.910119\n",
       "2021-06-25   5.910173\n",
       "2021-06-28   5.910010\n",
       "2021-06-29   5.920559\n",
       "2021-06-30   5.938934\n",
       "\n",
       "[1321 rows x 1 columns]"
      ]
     },
     "execution_count": 44,
     "metadata": {},
     "output_type": "execute_result"
    }
   ],
   "source": [
    "df_test_log"
   ]
  },
  {
   "cell_type": "code",
   "execution_count": 45,
   "metadata": {},
   "outputs": [
    {
     "data": {
      "text/html": [
       "<div>\n",
       "<style scoped>\n",
       "    .dataframe tbody tr th:only-of-type {\n",
       "        vertical-align: middle;\n",
       "    }\n",
       "\n",
       "    .dataframe tbody tr th {\n",
       "        vertical-align: top;\n",
       "    }\n",
       "\n",
       "    .dataframe thead th {\n",
       "        text-align: right;\n",
       "    }\n",
       "</style>\n",
       "<table border=\"1\" class=\"dataframe\">\n",
       "  <thead>\n",
       "    <tr style=\"text-align: right;\">\n",
       "      <th></th>\n",
       "      <th>0</th>\n",
       "    </tr>\n",
       "  </thead>\n",
       "  <tbody>\n",
       "    <tr>\n",
       "      <th>2016-06-08</th>\n",
       "      <td>5.178323</td>\n",
       "    </tr>\n",
       "    <tr>\n",
       "      <th>2016-06-09</th>\n",
       "      <td>5.179075</td>\n",
       "    </tr>\n",
       "    <tr>\n",
       "      <th>2016-06-10</th>\n",
       "      <td>5.180071</td>\n",
       "    </tr>\n",
       "    <tr>\n",
       "      <th>2016-06-13</th>\n",
       "      <td>5.180721</td>\n",
       "    </tr>\n",
       "    <tr>\n",
       "      <th>2016-06-14</th>\n",
       "      <td>5.181081</td>\n",
       "    </tr>\n",
       "    <tr>\n",
       "      <th>...</th>\n",
       "      <td>...</td>\n",
       "    </tr>\n",
       "    <tr>\n",
       "      <th>2021-06-25</th>\n",
       "      <td>5.518261</td>\n",
       "    </tr>\n",
       "    <tr>\n",
       "      <th>2021-06-28</th>\n",
       "      <td>5.518518</td>\n",
       "    </tr>\n",
       "    <tr>\n",
       "      <th>2021-06-29</th>\n",
       "      <td>5.518774</td>\n",
       "    </tr>\n",
       "    <tr>\n",
       "      <th>2021-06-30</th>\n",
       "      <td>5.519030</td>\n",
       "    </tr>\n",
       "    <tr>\n",
       "      <th>2021-07-01</th>\n",
       "      <td>5.519286</td>\n",
       "    </tr>\n",
       "  </tbody>\n",
       "</table>\n",
       "<p>1322 rows × 1 columns</p>\n",
       "</div>"
      ],
      "text/plain": [
       "                   0\n",
       "2016-06-08  5.178323\n",
       "2016-06-09  5.179075\n",
       "2016-06-10  5.180071\n",
       "2016-06-13  5.180721\n",
       "2016-06-14  5.181081\n",
       "...              ...\n",
       "2021-06-25  5.518261\n",
       "2021-06-28  5.518518\n",
       "2021-06-29  5.518774\n",
       "2021-06-30  5.519030\n",
       "2021-07-01  5.519286\n",
       "\n",
       "[1322 rows x 1 columns]"
      ]
     },
     "execution_count": 45,
     "metadata": {},
     "output_type": "execute_result"
    }
   ],
   "source": [
    "test_pred = test_pred.cumsum()\n",
    "test_pred"
   ]
  },
  {
   "cell_type": "code",
   "execution_count": 46,
   "metadata": {},
   "outputs": [
    {
     "data": {
      "text/html": [
       "<div>\n",
       "<style scoped>\n",
       "    .dataframe tbody tr th:only-of-type {\n",
       "        vertical-align: middle;\n",
       "    }\n",
       "\n",
       "    .dataframe tbody tr th {\n",
       "        vertical-align: top;\n",
       "    }\n",
       "\n",
       "    .dataframe thead th {\n",
       "        text-align: right;\n",
       "    }\n",
       "</style>\n",
       "<table border=\"1\" class=\"dataframe\">\n",
       "  <thead>\n",
       "    <tr style=\"text-align: right;\">\n",
       "      <th></th>\n",
       "      <th>0</th>\n",
       "    </tr>\n",
       "  </thead>\n",
       "  <tbody>\n",
       "    <tr>\n",
       "      <th>2016-06-08</th>\n",
       "      <td>177.385081</td>\n",
       "    </tr>\n",
       "    <tr>\n",
       "      <th>2016-06-09</th>\n",
       "      <td>177.518602</td>\n",
       "    </tr>\n",
       "    <tr>\n",
       "      <th>2016-06-10</th>\n",
       "      <td>177.695451</td>\n",
       "    </tr>\n",
       "    <tr>\n",
       "      <th>2016-06-13</th>\n",
       "      <td>177.810935</td>\n",
       "    </tr>\n",
       "    <tr>\n",
       "      <th>2016-06-14</th>\n",
       "      <td>177.875003</td>\n",
       "    </tr>\n",
       "    <tr>\n",
       "      <th>...</th>\n",
       "      <td>...</td>\n",
       "    </tr>\n",
       "    <tr>\n",
       "      <th>2021-06-25</th>\n",
       "      <td>249.201377</td>\n",
       "    </tr>\n",
       "    <tr>\n",
       "      <th>2021-06-28</th>\n",
       "      <td>249.265243</td>\n",
       "    </tr>\n",
       "    <tr>\n",
       "      <th>2021-06-29</th>\n",
       "      <td>249.329126</td>\n",
       "    </tr>\n",
       "    <tr>\n",
       "      <th>2021-06-30</th>\n",
       "      <td>249.393025</td>\n",
       "    </tr>\n",
       "    <tr>\n",
       "      <th>2021-07-01</th>\n",
       "      <td>249.456941</td>\n",
       "    </tr>\n",
       "  </tbody>\n",
       "</table>\n",
       "<p>1322 rows × 1 columns</p>\n",
       "</div>"
      ],
      "text/plain": [
       "                     0\n",
       "2016-06-08  177.385081\n",
       "2016-06-09  177.518602\n",
       "2016-06-10  177.695451\n",
       "2016-06-13  177.810935\n",
       "2016-06-14  177.875003\n",
       "...                ...\n",
       "2021-06-25  249.201377\n",
       "2021-06-28  249.265243\n",
       "2021-06-29  249.329126\n",
       "2021-06-30  249.393025\n",
       "2021-07-01  249.456941\n",
       "\n",
       "[1322 rows x 1 columns]"
      ]
     },
     "execution_count": 46,
     "metadata": {},
     "output_type": "execute_result"
    }
   ],
   "source": [
    "test_ARIMA = np.exp(test_pred)\n",
    "test_ARIMA"
   ]
  },
  {
   "cell_type": "code",
   "execution_count": 47,
   "metadata": {},
   "outputs": [
    {
     "data": {
      "text/plain": [
       "[<matplotlib.lines.Line2D at 0x24286c30cd0>]"
      ]
     },
     "execution_count": 47,
     "metadata": {},
     "output_type": "execute_result"
    },
    {
     "data": {
      "image/png": "[encoded data removed]",
      "text/plain": [
       "<Figure size 432x288 with 1 Axes>"
      ]
     },
     "metadata": {
      "needs_background": "light"
     },
     "output_type": "display_data"
    }
   ],
   "source": [
    "plt.plot(df_test[:1000],color='Red')\n",
    "plt.plot(test_ARIMA[:1000],color='Blue')"
   ]
  },
  {
   "cell_type": "code",
   "execution_count": 48,
   "metadata": {},
   "outputs": [
    {
     "data": {
      "text/plain": [
       "[<matplotlib.lines.Line2D at 0x24286c977c0>]"
      ]
     },
     "execution_count": 48,
     "metadata": {},
     "output_type": "execute_result"
    },
    {
     "data": {
      "image/png": "[encoded data removed]",
      "text/plain": [
       "<Figure size 1440x360 with 1 Axes>"
      ]
     },
     "metadata": {
      "needs_background": "light"
     },
     "output_type": "display_data"
    }
   ],
   "source": [
    "plt.figure(figsize=(20,5))\n",
    "plt.plot(df_train,color='Red')\n",
    "plt.plot(df_test,color='Red')\n",
    "plt.plot(pred_ARIMA,color='Blue')\n",
    "plt.plot(test_ARIMA,color='Blue')"
   ]
  },
  {
   "cell_type": "code",
   "execution_count": 49,
   "metadata": {},
   "outputs": [],
   "source": [
    "from sklearn.metrics import accuracy_score"
   ]
  },
  {
   "cell_type": "code",
   "execution_count": 57,
   "metadata": {},
   "outputs": [
    {
     "ename": "ValueError",
     "evalue": "continuous is not supported",
     "output_type": "error",
     "traceback": [
      "\u001b[1;31m---------------------------------------------------------------------------\u001b[0m",
      "\u001b[1;31mValueError\u001b[0m                                Traceback (most recent call last)",
      "\u001b[1;32m<ipython-input-57-23abc3db1c76>\u001b[0m in \u001b[0;36m<module>\u001b[1;34m\u001b[0m\n\u001b[1;32m----> 1\u001b[1;33m \u001b[0maccuracy_score\u001b[0m\u001b[1;33m(\u001b[0m\u001b[0mnp\u001b[0m\u001b[1;33m.\u001b[0m\u001b[0marray\u001b[0m\u001b[1;33m(\u001b[0m\u001b[0mdf_test\u001b[0m\u001b[1;33m[\u001b[0m\u001b[1;33m:\u001b[0m\u001b[1;36m1000\u001b[0m\u001b[1;33m]\u001b[0m\u001b[1;33m)\u001b[0m\u001b[1;33m,\u001b[0m\u001b[0mnp\u001b[0m\u001b[1;33m.\u001b[0m\u001b[0marray\u001b[0m\u001b[1;33m(\u001b[0m\u001b[0mtest_ARIMA\u001b[0m\u001b[1;33m[\u001b[0m\u001b[1;33m:\u001b[0m\u001b[1;36m1000\u001b[0m\u001b[1;33m]\u001b[0m\u001b[1;33m)\u001b[0m\u001b[1;33m)\u001b[0m\u001b[1;33m\u001b[0m\u001b[1;33m\u001b[0m\u001b[0m\n\u001b[0m",
      "\u001b[1;32m~\\anaconda3\\lib\\site-packages\\sklearn\\utils\\validation.py\u001b[0m in \u001b[0;36minner_f\u001b[1;34m(*args, **kwargs)\u001b[0m\n\u001b[0;32m     70\u001b[0m                           FutureWarning)\n\u001b[0;32m     71\u001b[0m         \u001b[0mkwargs\u001b[0m\u001b[1;33m.\u001b[0m\u001b[0mupdate\u001b[0m\u001b[1;33m(\u001b[0m\u001b[1;33m{\u001b[0m\u001b[0mk\u001b[0m\u001b[1;33m:\u001b[0m \u001b[0marg\u001b[0m \u001b[1;32mfor\u001b[0m \u001b[0mk\u001b[0m\u001b[1;33m,\u001b[0m \u001b[0marg\u001b[0m \u001b[1;32min\u001b[0m \u001b[0mzip\u001b[0m\u001b[1;33m(\u001b[0m\u001b[0msig\u001b[0m\u001b[1;33m.\u001b[0m\u001b[0mparameters\u001b[0m\u001b[1;33m,\u001b[0m \u001b[0margs\u001b[0m\u001b[1;33m)\u001b[0m\u001b[1;33m}\u001b[0m\u001b[1;33m)\u001b[0m\u001b[1;33m\u001b[0m\u001b[1;33m\u001b[0m\u001b[0m\n\u001b[1;32m---> 72\u001b[1;33m         \u001b[1;32mreturn\u001b[0m \u001b[0mf\u001b[0m\u001b[1;33m(\u001b[0m\u001b[1;33m**\u001b[0m\u001b[0mkwargs\u001b[0m\u001b[1;33m)\u001b[0m\u001b[1;33m\u001b[0m\u001b[1;33m\u001b[0m\u001b[0m\n\u001b[0m\u001b[0;32m     73\u001b[0m     \u001b[1;32mreturn\u001b[0m \u001b[0minner_f\u001b[0m\u001b[1;33m\u001b[0m\u001b[1;33m\u001b[0m\u001b[0m\n\u001b[0;32m     74\u001b[0m \u001b[1;33m\u001b[0m\u001b[0m\n",
      "\u001b[1;32m~\\anaconda3\\lib\\site-packages\\sklearn\\metrics\\_classification.py\u001b[0m in \u001b[0;36maccuracy_score\u001b[1;34m(y_true, y_pred, normalize, sample_weight)\u001b[0m\n\u001b[0;32m    185\u001b[0m \u001b[1;33m\u001b[0m\u001b[0m\n\u001b[0;32m    186\u001b[0m     \u001b[1;31m# Compute accuracy for each possible representation\u001b[0m\u001b[1;33m\u001b[0m\u001b[1;33m\u001b[0m\u001b[1;33m\u001b[0m\u001b[0m\n\u001b[1;32m--> 187\u001b[1;33m     \u001b[0my_type\u001b[0m\u001b[1;33m,\u001b[0m \u001b[0my_true\u001b[0m\u001b[1;33m,\u001b[0m \u001b[0my_pred\u001b[0m \u001b[1;33m=\u001b[0m \u001b[0m_check_targets\u001b[0m\u001b[1;33m(\u001b[0m\u001b[0my_true\u001b[0m\u001b[1;33m,\u001b[0m \u001b[0my_pred\u001b[0m\u001b[1;33m)\u001b[0m\u001b[1;33m\u001b[0m\u001b[1;33m\u001b[0m\u001b[0m\n\u001b[0m\u001b[0;32m    188\u001b[0m     \u001b[0mcheck_consistent_length\u001b[0m\u001b[1;33m(\u001b[0m\u001b[0my_true\u001b[0m\u001b[1;33m,\u001b[0m \u001b[0my_pred\u001b[0m\u001b[1;33m,\u001b[0m \u001b[0msample_weight\u001b[0m\u001b[1;33m)\u001b[0m\u001b[1;33m\u001b[0m\u001b[1;33m\u001b[0m\u001b[0m\n\u001b[0;32m    189\u001b[0m     \u001b[1;32mif\u001b[0m \u001b[0my_type\u001b[0m\u001b[1;33m.\u001b[0m\u001b[0mstartswith\u001b[0m\u001b[1;33m(\u001b[0m\u001b[1;34m'multilabel'\u001b[0m\u001b[1;33m)\u001b[0m\u001b[1;33m:\u001b[0m\u001b[1;33m\u001b[0m\u001b[1;33m\u001b[0m\u001b[0m\n",
      "\u001b[1;32m~\\anaconda3\\lib\\site-packages\\sklearn\\metrics\\_classification.py\u001b[0m in \u001b[0;36m_check_targets\u001b[1;34m(y_true, y_pred)\u001b[0m\n\u001b[0;32m     96\u001b[0m     \u001b[1;31m# No metrics support \"multiclass-multioutput\" format\u001b[0m\u001b[1;33m\u001b[0m\u001b[1;33m\u001b[0m\u001b[1;33m\u001b[0m\u001b[0m\n\u001b[0;32m     97\u001b[0m     \u001b[1;32mif\u001b[0m \u001b[1;33m(\u001b[0m\u001b[0my_type\u001b[0m \u001b[1;32mnot\u001b[0m \u001b[1;32min\u001b[0m \u001b[1;33m[\u001b[0m\u001b[1;34m\"binary\"\u001b[0m\u001b[1;33m,\u001b[0m \u001b[1;34m\"multiclass\"\u001b[0m\u001b[1;33m,\u001b[0m \u001b[1;34m\"multilabel-indicator\"\u001b[0m\u001b[1;33m]\u001b[0m\u001b[1;33m)\u001b[0m\u001b[1;33m:\u001b[0m\u001b[1;33m\u001b[0m\u001b[1;33m\u001b[0m\u001b[0m\n\u001b[1;32m---> 98\u001b[1;33m         \u001b[1;32mraise\u001b[0m \u001b[0mValueError\u001b[0m\u001b[1;33m(\u001b[0m\u001b[1;34m\"{0} is not supported\"\u001b[0m\u001b[1;33m.\u001b[0m\u001b[0mformat\u001b[0m\u001b[1;33m(\u001b[0m\u001b[0my_type\u001b[0m\u001b[1;33m)\u001b[0m\u001b[1;33m)\u001b[0m\u001b[1;33m\u001b[0m\u001b[1;33m\u001b[0m\u001b[0m\n\u001b[0m\u001b[0;32m     99\u001b[0m \u001b[1;33m\u001b[0m\u001b[0m\n\u001b[0;32m    100\u001b[0m     \u001b[1;32mif\u001b[0m \u001b[0my_type\u001b[0m \u001b[1;32min\u001b[0m \u001b[1;33m[\u001b[0m\u001b[1;34m\"binary\"\u001b[0m\u001b[1;33m,\u001b[0m \u001b[1;34m\"multiclass\"\u001b[0m\u001b[1;33m]\u001b[0m\u001b[1;33m:\u001b[0m\u001b[1;33m\u001b[0m\u001b[1;33m\u001b[0m\u001b[0m\n",
      "\u001b[1;31mValueError\u001b[0m: continuous is not supported"
     ]
    }
   ],
   "source": [
    "accuracy_score(np.array(df_test[:1000]),np.array(test_ARIMA[:1000]))"
   ]
  },
  {
   "cell_type": "code",
   "execution_count": null,
   "metadata": {},
   "outputs": [],
   "source": []
  }
 ],
 "metadata": {
  "kernelspec": {
   "display_name": "Python 3",
   "language": "python",
   "name": "python3"
  },
  "language_info": {
   "codemirror_mode": {
    "name": "ipython",
    "version": 3
   },
   "file_extension": ".py",
   "mimetype": "text/x-python",
   "name": "python",
   "nbconvert_exporter": "python",
   "pygments_lexer": "ipython3",
   "version": "3.8.5"
  }
 },
 "nbformat": 4,
 "nbformat_minor": 4
}
